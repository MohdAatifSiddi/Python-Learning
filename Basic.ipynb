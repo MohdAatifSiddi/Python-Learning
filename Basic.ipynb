{
 "cells": [
  {
   "cell_type": "markdown",
   "id": "6dd8e46e-9b17-4df2-b039-c5dad00849c3",
   "metadata": {},
   "source": [
    "### Basic Arithmetic"
   ]
  },
  {
   "cell_type": "code",
   "execution_count": 13,
   "id": "58d6a81a-8507-4b05-b0e6-d3d53f4525ca",
   "metadata": {},
   "outputs": [
    {
     "data": {
      "text/plain": [
       "3"
      ]
     },
     "execution_count": 13,
     "metadata": {},
     "output_type": "execute_result"
    }
   ],
   "source": [
    "# Addition\n",
    "2 + 1"
   ]
  },
  {
   "cell_type": "code",
   "execution_count": 22,
   "id": "fef1de18-84c4-4a46-b84e-98e1008575a3",
   "metadata": {},
   "outputs": [
    {
     "data": {
      "text/plain": [
       "1"
      ]
     },
     "execution_count": 22,
     "metadata": {},
     "output_type": "execute_result"
    }
   ],
   "source": [
    "# Substraction\n",
    "2 - 1"
   ]
  },
  {
   "cell_type": "code",
   "execution_count": 15,
   "id": "0d454419-9f4c-4395-bc1f-2a18a8cc3e2d",
   "metadata": {},
   "outputs": [
    {
     "data": {
      "text/plain": [
       "4"
      ]
     },
     "execution_count": 15,
     "metadata": {},
     "output_type": "execute_result"
    }
   ],
   "source": [
    "# Multiplication\n",
    "\n",
    "2 * 2"
   ]
  },
  {
   "cell_type": "code",
   "execution_count": 18,
   "id": "31f5ecf4-5db8-4ed6-b5f2-d9cb88038cb9",
   "metadata": {},
   "outputs": [
    {
     "data": {
      "text/plain": [
       "1.5"
      ]
     },
     "execution_count": 18,
     "metadata": {},
     "output_type": "execute_result"
    }
   ],
   "source": [
    "# Division\n",
    "3 / 2"
   ]
  },
  {
   "cell_type": "code",
   "execution_count": 21,
   "id": "a01b7245-203e-43f1-9855-1ab385e7343c",
   "metadata": {},
   "outputs": [
    {
     "data": {
      "text/plain": [
       "1"
      ]
     },
     "execution_count": 21,
     "metadata": {},
     "output_type": "execute_result"
    }
   ],
   "source": [
    "# Floor Division\n",
    "7//4"
   ]
  },
  {
   "cell_type": "markdown",
   "id": "6a27e10b-e5bd-4c91-8c02-d2b8a73bcd30",
   "metadata": {},
   "source": [
    "***Whoa! What just happend? last time I checked, 7 division by 4 equals 1.75 not 1!***\n",
    "\n",
    "The reson we get this result is because we are using \"*Floor Division*\". The // operator (Two forward slashes) truncates the decimals without rounding, and return an integer result."
   ]
  },
  {
   "cell_type": "markdown",
   "id": "4908a085-0f3a-4a29-a709-b64a494a2a3d",
   "metadata": {},
   "source": [
    "**So What if we just want the remainder after division?**"
   ]
  },
  {
   "cell_type": "code",
   "execution_count": 1,
   "id": "bf736ef8-e10e-4968-8a54-c42944451f6c",
   "metadata": {},
   "outputs": [
    {
     "data": {
      "text/plain": [
       "3"
      ]
     },
     "execution_count": 1,
     "metadata": {},
     "output_type": "execute_result"
    }
   ],
   "source": [
    "# Modulo\n",
    "7%4"
   ]
  },
  {
   "cell_type": "code",
   "execution_count": 5,
   "id": "18e2663e-4344-4013-90ba-939859e65e11",
   "metadata": {},
   "outputs": [],
   "source": [
    "#4 goes into 7 once, with a remainder of 3. The % Operator returns the remainder after division"
   ]
  },
  {
   "cell_type": "markdown",
   "id": "9c047bcd-ae3a-4c46-b4fd-1595535eea31",
   "metadata": {},
   "source": [
    "### Arithmetic continued"
   ]
  },
  {
   "cell_type": "code",
   "execution_count": 10,
   "id": "bc5b76c3-2cc6-46ad-900a-1db648d0bac8",
   "metadata": {},
   "outputs": [
    {
     "data": {
      "text/plain": [
       "8"
      ]
     },
     "execution_count": 10,
     "metadata": {},
     "output_type": "execute_result"
    }
   ],
   "source": [
    "# Powers\n",
    "2**3"
   ]
  },
  {
   "cell_type": "code",
   "execution_count": 13,
   "id": "cc4570f5-577a-4005-9474-edfd1a468454",
   "metadata": {},
   "outputs": [
    {
     "data": {
      "text/plain": [
       "2.0"
      ]
     },
     "execution_count": 13,
     "metadata": {},
     "output_type": "execute_result"
    }
   ],
   "source": [
    "# Con also do roots this way\n",
    "4**0.5"
   ]
  },
  {
   "cell_type": "code",
   "execution_count": 16,
   "id": "27316e6a-6f6f-46c5-af45-ab1e85907670",
   "metadata": {},
   "outputs": [
    {
     "data": {
      "text/plain": [
       "105"
      ]
     },
     "execution_count": 16,
     "metadata": {},
     "output_type": "execute_result"
    }
   ],
   "source": [
    "# Order of Operations followed in Python\n",
    "2 + 10 * 10 + 3"
   ]
  },
  {
   "cell_type": "code",
   "execution_count": 21,
   "id": "00dbf18c-2c31-4d28-a540-32ec40f8c884",
   "metadata": {},
   "outputs": [
    {
     "data": {
      "text/plain": [
       "156"
      ]
     },
     "execution_count": 21,
     "metadata": {},
     "output_type": "execute_result"
    }
   ],
   "source": [
    "# Can use parentheses to specify orders\n",
    "(2+10) * (10+3)"
   ]
  },
  {
   "cell_type": "markdown",
   "id": "5d107b77-f831-43e6-bb15-541bdc6d2f92",
   "metadata": {},
   "source": [
    "# Variable Assignments\n",
    "\n",
    "Now that we've seen how to use numbers in python as a calculator let's see how we can assign names and create variables.\n",
    "\n",
    "we use a single equals sign to assign labels to variables. Let's see a few examples of how we can do this."
   ]
  },
  {
   "cell_type": "code",
   "execution_count": 22,
   "id": "5986b985-1359-4136-80ff-87ad356fbf63",
   "metadata": {},
   "outputs": [],
   "source": [
    "# let's create an object called \"a\" and assign it the number 5\n",
    "a = 5"
   ]
  },
  {
   "cell_type": "markdown",
   "id": "963f9f30-3afd-4666-b177-a3525a30cb89",
   "metadata": {},
   "source": [
    "Now if I call a in my Python script, Python will treat it as the number 5."
   ]
  },
  {
   "cell_type": "code",
   "execution_count": 23,
   "id": "a184d94d-9730-4247-a8c7-26a17c2c48d7",
   "metadata": {},
   "outputs": [
    {
     "data": {
      "text/plain": [
       "10"
      ]
     },
     "execution_count": 23,
     "metadata": {},
     "output_type": "execute_result"
    }
   ],
   "source": [
    "# adding the object\n",
    "a+a"
   ]
  },
  {
   "cell_type": "markdown",
   "id": "fcd0bfe7-366c-485a-8dc4-20a37eee85d1",
   "metadata": {},
   "source": [
    "What happens or reassaingment? will python let us write it over?"
   ]
  },
  {
   "cell_type": "code",
   "execution_count": 24,
   "id": "4727bea4-fda6-4871-9a7c-b2e7cfa13bf1",
   "metadata": {},
   "outputs": [],
   "source": [
    "# Reassignment\n",
    "a = 10"
   ]
  },
  {
   "cell_type": "code",
   "execution_count": 25,
   "id": "feac31ce-3928-46fd-a38e-8f966acb43bf",
   "metadata": {},
   "outputs": [
    {
     "data": {
      "text/plain": [
       "10"
      ]
     },
     "execution_count": 25,
     "metadata": {},
     "output_type": "execute_result"
    }
   ],
   "source": [
    "# Let's check what happen now\n",
    "a"
   ]
  },
  {
   "cell_type": "markdown",
   "id": "f1b40f77-5575-4987-8cac-e11ed70cb619",
   "metadata": {},
   "source": [
    "Yes! Python allows you to write over assigned variables names. We can also use the variables themselves when doing the reassaignment. Here is an example of what I mean"
   ]
  },
  {
   "cell_type": "code",
   "execution_count": 26,
   "id": "7e350fb5-f864-49bc-924b-69e61e46f098",
   "metadata": {},
   "outputs": [],
   "source": [
    "# use a to redefine a \n",
    "a = a + a"
   ]
  },
  {
   "cell_type": "code",
   "execution_count": 27,
   "id": "c8a1d0cf-12bf-4a67-b24f-fe7f6010c7e8",
   "metadata": {},
   "outputs": [
    {
     "data": {
      "text/plain": [
       "20"
      ]
     },
     "execution_count": 27,
     "metadata": {},
     "output_type": "execute_result"
    }
   ],
   "source": [
    "# check again\n",
    "a"
   ]
  },
  {
   "cell_type": "markdown",
   "id": "335e62e1-c86a-413d-ae80-ce2fdd6d9fd7",
   "metadata": {},
   "source": [
    "The names you use when creating these labels need to follow a few rules.\n",
    "\n",
    "1. Names can not start with a number\n",
    "2. There can be no spaces in the name, use _ instead.\n",
    "3. Can not use any of these symbols : '\",<>/?\\|()!@#$%^&*~-+\n",
    "4. It's considered best practice (PEP8) that names are lowercase.\n",
    "5. Avoid using the characters 'l' (lowercase letter el), 'O' (uppercase letter oh), or 'I' (uppercase letter eye) as single character variable names.\n",
    "6. Avoid using words that have special meaning in python like \"list\" and \"str\"\n",
    "\n",
    "using variables names can be a very usefull ways to keep track of different variables in Python. Example..\n"
   ]
  },
  {
   "cell_type": "code",
   "execution_count": 28,
   "id": "bf08e12d-c3ee-4d4d-a753-f0bd47d488b8",
   "metadata": {},
   "outputs": [],
   "source": [
    "# Use object names to keep better track of what's going on in your code!\n",
    "my_income = 100\n",
    "tax_rate = 0.1\n",
    "\n",
    "my_taxes = my_income*tax_rate"
   ]
  },
  {
   "cell_type": "code",
   "execution_count": 29,
   "id": "0f764b3f-fa8a-47fa-96b0-f8e1d82b8905",
   "metadata": {},
   "outputs": [
    {
     "data": {
      "text/plain": [
       "10.0"
      ]
     },
     "execution_count": 29,
     "metadata": {},
     "output_type": "execute_result"
    }
   ],
   "source": [
    "# Show my taxes!\n",
    "my_taxes"
   ]
  },
  {
   "cell_type": "code",
   "execution_count": null,
   "id": "4dde4580-0a54-4a02-9089-56e60c29ec7a",
   "metadata": {},
   "outputs": [],
   "source": [
    "So What have we learned? we learned some of the basic of numbers in python. we also learned how to do arithmetic and use p"
   ]
  }
 ],
 "metadata": {
  "kernelspec": {
   "display_name": "Python 3 (ipykernel)",
   "language": "python",
   "name": "python3"
  },
  "language_info": {
   "codemirror_mode": {
    "name": "ipython",
    "version": 3
   },
   "file_extension": ".py",
   "mimetype": "text/x-python",
   "name": "python",
   "nbconvert_exporter": "python",
   "pygments_lexer": "ipython3",
   "version": "3.13.2"
  }
 },
 "nbformat": 4,
 "nbformat_minor": 5
}
